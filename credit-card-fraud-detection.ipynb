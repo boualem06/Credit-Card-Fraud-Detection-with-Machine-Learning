{
 "cells": [
  {
   "cell_type": "code",
   "execution_count": 1,
   "id": "87d3d5bf",
   "metadata": {
    "_cell_guid": "b1076dfc-b9ad-4769-8c92-a6c4dae69d19",
    "_uuid": "8f2839f25d086af736a60e9eeb907d3b93b6e0e5",
    "execution": {
     "iopub.execute_input": "2024-08-11T18:14:30.286387Z",
     "iopub.status.busy": "2024-08-11T18:14:30.285871Z",
     "iopub.status.idle": "2024-08-11T18:14:31.332015Z",
     "shell.execute_reply": "2024-08-11T18:14:31.330406Z"
    },
    "papermill": {
     "duration": 1.056928,
     "end_time": "2024-08-11T18:14:31.334884",
     "exception": false,
     "start_time": "2024-08-11T18:14:30.277956",
     "status": "completed"
    },
    "tags": []
   },
   "outputs": [
    {
     "name": "stdout",
     "output_type": "stream",
     "text": [
      "/kaggle/input/fraud-detection/fraudTest.csv\n",
      "/kaggle/input/fraud-detection/fraudTrain.csv\n"
     ]
    }
   ],
   "source": [
    "# This Python 3 environment comes with many helpful analytics libraries installed\n",
    "# It is defined by the kaggle/python Docker image: https://github.com/kaggle/docker-python\n",
    "# For example, here's several helpful packages to load\n",
    "\n",
    "import numpy as np # linear algebra\n",
    "import pandas as pd # data processing, CSV file I/O (e.g. pd.read_csv)\n",
    "\n",
    "# Input data files are available in the read-only \"../input/\" directory\n",
    "# For example, running this (by clicking run or pressing Shift+Enter) will list all files under the input directory\n",
    "\n",
    "import os\n",
    "for dirname, _, filenames in os.walk('/kaggle/input'):\n",
    "    for filename in filenames:\n",
    "        print(os.path.join(dirname, filename))\n",
    "\n",
    "# You can write up to 20GB to the current directory (/kaggle/working/) that gets preserved as output when you create a version using \"Save & Run All\" \n",
    "# You can also write temporary files to /kaggle/temp/, but they won't be saved outside of the current session"
   ]
  },
  {
   "cell_type": "code",
   "execution_count": 2,
   "id": "94558210",
   "metadata": {
    "execution": {
     "iopub.execute_input": "2024-08-11T18:14:31.348348Z",
     "iopub.status.busy": "2024-08-11T18:14:31.347715Z",
     "iopub.status.idle": "2024-08-11T18:14:54.696166Z",
     "shell.execute_reply": "2024-08-11T18:14:54.694704Z"
    },
    "papermill": {
     "duration": 23.358055,
     "end_time": "2024-08-11T18:14:54.698716",
     "exception": false,
     "start_time": "2024-08-11T18:14:31.340661",
     "status": "completed"
    },
    "tags": []
   },
   "outputs": [
    {
     "data": {
      "text/plain": [
       "Index(['Unnamed: 0', 'trans_date_trans_time', 'cc_num', 'merchant', 'category',\n",
       "       'amt', 'first', 'last', 'gender', 'street', 'city', 'state', 'zip',\n",
       "       'lat', 'long', 'city_pop', 'job', 'dob', 'trans_num', 'unix_time',\n",
       "       'merch_lat', 'merch_long', 'is_fraud'],\n",
       "      dtype='object')"
      ]
     },
     "execution_count": 2,
     "metadata": {},
     "output_type": "execute_result"
    }
   ],
   "source": [
    "# import tools and libraries\n",
    "\n",
    "import pandas as pd\n",
    "from sklearn.preprocessing import LabelEncoder\n",
    "from sklearn.linear_model import LogisticRegression \n",
    "from sklearn.ensemble import RandomForestClassifier \n",
    "from sklearn.tree import DecisionTreeClassifier\n",
    "import seaborn as sns\n",
    "from sklearn.metrics import accuracy_score , classification_report , confusion_matrix\n",
    "\n",
    "\n",
    "# load data\n",
    "\n",
    "train_data=pd.read_csv('/kaggle/input/fraud-detection/fraudTrain.csv')\n",
    "test_data=pd.read_csv('/kaggle/input/fraud-detection/fraudTest.csv')\n",
    "\n",
    "# display data\n",
    "\n",
    "train_data.head()\n",
    "\n",
    "# display data\n",
    "\n",
    "test_data.head()\n",
    "\n",
    "# data details\n",
    "\n",
    "test_data.columns\n",
    "\n",
    "# data details\n",
    "\n",
    "train_data.columns"
   ]
  },
  {
   "cell_type": "code",
   "execution_count": 3,
   "id": "4da98fc2",
   "metadata": {
    "execution": {
     "iopub.execute_input": "2024-08-11T18:14:54.712226Z",
     "iopub.status.busy": "2024-08-11T18:14:54.711683Z",
     "iopub.status.idle": "2024-08-11T18:14:55.159095Z",
     "shell.execute_reply": "2024-08-11T18:14:55.157596Z"
    },
    "papermill": {
     "duration": 0.457766,
     "end_time": "2024-08-11T18:14:55.162090",
     "exception": false,
     "start_time": "2024-08-11T18:14:54.704324",
     "status": "completed"
    },
    "tags": []
   },
   "outputs": [],
   "source": [
    "# slicing data to drop invalid data\n",
    "\n",
    "train_data=train_data.drop(columns='Unnamed: 0')\n",
    "test_data=test_data.drop(columns='Unnamed: 0')"
   ]
  },
  {
   "cell_type": "code",
   "execution_count": 4,
   "id": "1eb1f875",
   "metadata": {
    "execution": {
     "iopub.execute_input": "2024-08-11T18:14:55.175578Z",
     "iopub.status.busy": "2024-08-11T18:14:55.175090Z",
     "iopub.status.idle": "2024-08-11T18:15:20.008978Z",
     "shell.execute_reply": "2024-08-11T18:15:20.007379Z"
    },
    "papermill": {
     "duration": 24.844917,
     "end_time": "2024-08-11T18:15:20.012649",
     "exception": false,
     "start_time": "2024-08-11T18:14:55.167732",
     "status": "completed"
    },
    "tags": []
   },
   "outputs": [],
   "source": [
    "# encoding training data\n",
    "encoder=LabelEncoder()\n",
    "train_data['merchant']=encoder.fit_transform(train_data['merchant'])\n",
    "train_data['category']=encoder.fit_transform(train_data['category'])\n",
    "train_data['street']=encoder.fit_transform(train_data['street'])\n",
    "train_data['job']=encoder.fit_transform(train_data['job'])\n",
    "train_data['trans_num']=encoder.fit_transform(train_data['trans_num'])\n",
    "train_data['first']=encoder.fit_transform(train_data['first'])\n",
    "train_data['city']=encoder.fit_transform(train_data['city'])\n",
    "train_data['state']=encoder.fit_transform(train_data['state'])\n",
    "train_data['last']=encoder.fit_transform(train_data['last'])\n",
    "train_data['gender']=encoder.fit_transform(train_data['gender'])\n",
    "train_data['trans_date_trans_time']=encoder.fit_transform(train_data['trans_date_trans_time'])\n",
    "train_data['dob']=encoder.fit_transform(train_data['dob'])\n",
    "\n",
    "# encoding test data\n",
    "\n",
    "test_data['merchant']=encoder.fit_transform(test_data['merchant'])\n",
    "test_data['category']=encoder.fit_transform(test_data['category'])\n",
    "test_data['street']=encoder.fit_transform(test_data['street'])\n",
    "test_data['job']=encoder.fit_transform(test_data['job'])\n",
    "test_data['trans_num']=encoder.fit_transform(test_data['trans_num'])\n",
    "test_data['first']=encoder.fit_transform(test_data['first'])\n",
    "test_data['city']=encoder.fit_transform(test_data['city'])\n",
    "test_data['state']=encoder.fit_transform(test_data['state'])\n",
    "test_data['last']=encoder.fit_transform(test_data['last'])\n",
    "test_data['gender']=encoder.fit_transform(test_data['gender'])\n",
    "test_data['trans_date_trans_time']=encoder.fit_transform(test_data['trans_date_trans_time'])\n",
    "test_data['dob']=encoder.fit_transform(test_data['dob'])"
   ]
  },
  {
   "cell_type": "code",
   "execution_count": 5,
   "id": "e186068b",
   "metadata": {
    "execution": {
     "iopub.execute_input": "2024-08-11T18:15:20.027239Z",
     "iopub.status.busy": "2024-08-11T18:15:20.026706Z",
     "iopub.status.idle": "2024-08-11T18:15:20.066939Z",
     "shell.execute_reply": "2024-08-11T18:15:20.065018Z"
    },
    "papermill": {
     "duration": 0.051289,
     "end_time": "2024-08-11T18:15:20.070138",
     "exception": false,
     "start_time": "2024-08-11T18:15:20.018849",
     "status": "completed"
    },
    "tags": []
   },
   "outputs": [
    {
     "data": {
      "text/html": [
       "<div>\n",
       "<style scoped>\n",
       "    .dataframe tbody tr th:only-of-type {\n",
       "        vertical-align: middle;\n",
       "    }\n",
       "\n",
       "    .dataframe tbody tr th {\n",
       "        vertical-align: top;\n",
       "    }\n",
       "\n",
       "    .dataframe thead th {\n",
       "        text-align: right;\n",
       "    }\n",
       "</style>\n",
       "<table border=\"1\" class=\"dataframe\">\n",
       "  <thead>\n",
       "    <tr style=\"text-align: right;\">\n",
       "      <th></th>\n",
       "      <th>trans_date_trans_time</th>\n",
       "      <th>cc_num</th>\n",
       "      <th>merchant</th>\n",
       "      <th>category</th>\n",
       "      <th>amt</th>\n",
       "      <th>first</th>\n",
       "      <th>last</th>\n",
       "      <th>gender</th>\n",
       "      <th>street</th>\n",
       "      <th>city</th>\n",
       "      <th>...</th>\n",
       "      <th>lat</th>\n",
       "      <th>long</th>\n",
       "      <th>city_pop</th>\n",
       "      <th>job</th>\n",
       "      <th>dob</th>\n",
       "      <th>trans_num</th>\n",
       "      <th>unix_time</th>\n",
       "      <th>merch_lat</th>\n",
       "      <th>merch_long</th>\n",
       "      <th>is_fraud</th>\n",
       "    </tr>\n",
       "  </thead>\n",
       "  <tbody>\n",
       "    <tr>\n",
       "      <th>0</th>\n",
       "      <td>0</td>\n",
       "      <td>2291163933867244</td>\n",
       "      <td>319</td>\n",
       "      <td>10</td>\n",
       "      <td>2.86</td>\n",
       "      <td>151</td>\n",
       "      <td>115</td>\n",
       "      <td>1</td>\n",
       "      <td>341</td>\n",
       "      <td>157</td>\n",
       "      <td>...</td>\n",
       "      <td>33.9659</td>\n",
       "      <td>-80.9355</td>\n",
       "      <td>333497</td>\n",
       "      <td>275</td>\n",
       "      <td>376</td>\n",
       "      <td>98699</td>\n",
       "      <td>1371816865</td>\n",
       "      <td>33.986391</td>\n",
       "      <td>-81.200714</td>\n",
       "      <td>0</td>\n",
       "    </tr>\n",
       "    <tr>\n",
       "      <th>1</th>\n",
       "      <td>1</td>\n",
       "      <td>3573030041201292</td>\n",
       "      <td>591</td>\n",
       "      <td>10</td>\n",
       "      <td>29.84</td>\n",
       "      <td>163</td>\n",
       "      <td>457</td>\n",
       "      <td>0</td>\n",
       "      <td>354</td>\n",
       "      <td>16</td>\n",
       "      <td>...</td>\n",
       "      <td>40.3207</td>\n",
       "      <td>-110.4360</td>\n",
       "      <td>302</td>\n",
       "      <td>392</td>\n",
       "      <td>760</td>\n",
       "      <td>108785</td>\n",
       "      <td>1371816873</td>\n",
       "      <td>39.450498</td>\n",
       "      <td>-109.960431</td>\n",
       "      <td>0</td>\n",
       "    </tr>\n",
       "    <tr>\n",
       "      <th>2</th>\n",
       "      <td>2</td>\n",
       "      <td>3598215285024754</td>\n",
       "      <td>611</td>\n",
       "      <td>5</td>\n",
       "      <td>41.28</td>\n",
       "      <td>24</td>\n",
       "      <td>249</td>\n",
       "      <td>0</td>\n",
       "      <td>865</td>\n",
       "      <td>61</td>\n",
       "      <td>...</td>\n",
       "      <td>40.6729</td>\n",
       "      <td>-73.5365</td>\n",
       "      <td>34496</td>\n",
       "      <td>259</td>\n",
       "      <td>421</td>\n",
       "      <td>433979</td>\n",
       "      <td>1371816893</td>\n",
       "      <td>40.495810</td>\n",
       "      <td>-74.196111</td>\n",
       "      <td>0</td>\n",
       "    </tr>\n",
       "    <tr>\n",
       "      <th>3</th>\n",
       "      <td>3</td>\n",
       "      <td>3591919803438423</td>\n",
       "      <td>222</td>\n",
       "      <td>9</td>\n",
       "      <td>60.05</td>\n",
       "      <td>42</td>\n",
       "      <td>457</td>\n",
       "      <td>1</td>\n",
       "      <td>320</td>\n",
       "      <td>764</td>\n",
       "      <td>...</td>\n",
       "      <td>28.5697</td>\n",
       "      <td>-80.8191</td>\n",
       "      <td>54767</td>\n",
       "      <td>407</td>\n",
       "      <td>718</td>\n",
       "      <td>71993</td>\n",
       "      <td>1371816915</td>\n",
       "      <td>28.812398</td>\n",
       "      <td>-80.883061</td>\n",
       "      <td>0</td>\n",
       "    </tr>\n",
       "    <tr>\n",
       "      <th>4</th>\n",
       "      <td>4</td>\n",
       "      <td>3526826139003047</td>\n",
       "      <td>292</td>\n",
       "      <td>13</td>\n",
       "      <td>3.19</td>\n",
       "      <td>247</td>\n",
       "      <td>261</td>\n",
       "      <td>1</td>\n",
       "      <td>548</td>\n",
       "      <td>247</td>\n",
       "      <td>...</td>\n",
       "      <td>44.2529</td>\n",
       "      <td>-85.0170</td>\n",
       "      <td>1126</td>\n",
       "      <td>196</td>\n",
       "      <td>177</td>\n",
       "      <td>190585</td>\n",
       "      <td>1371816917</td>\n",
       "      <td>44.959148</td>\n",
       "      <td>-85.884734</td>\n",
       "      <td>0</td>\n",
       "    </tr>\n",
       "  </tbody>\n",
       "</table>\n",
       "<p>5 rows × 22 columns</p>\n",
       "</div>"
      ],
      "text/plain": [
       "   trans_date_trans_time            cc_num  merchant  category    amt  first  \\\n",
       "0                      0  2291163933867244       319        10   2.86    151   \n",
       "1                      1  3573030041201292       591        10  29.84    163   \n",
       "2                      2  3598215285024754       611         5  41.28     24   \n",
       "3                      3  3591919803438423       222         9  60.05     42   \n",
       "4                      4  3526826139003047       292        13   3.19    247   \n",
       "\n",
       "   last  gender  street  city  ...      lat      long  city_pop  job  dob  \\\n",
       "0   115       1     341   157  ...  33.9659  -80.9355    333497  275  376   \n",
       "1   457       0     354    16  ...  40.3207 -110.4360       302  392  760   \n",
       "2   249       0     865    61  ...  40.6729  -73.5365     34496  259  421   \n",
       "3   457       1     320   764  ...  28.5697  -80.8191     54767  407  718   \n",
       "4   261       1     548   247  ...  44.2529  -85.0170      1126  196  177   \n",
       "\n",
       "   trans_num   unix_time  merch_lat  merch_long  is_fraud  \n",
       "0      98699  1371816865  33.986391  -81.200714         0  \n",
       "1     108785  1371816873  39.450498 -109.960431         0  \n",
       "2     433979  1371816893  40.495810  -74.196111         0  \n",
       "3      71993  1371816915  28.812398  -80.883061         0  \n",
       "4     190585  1371816917  44.959148  -85.884734         0  \n",
       "\n",
       "[5 rows x 22 columns]"
      ]
     },
     "execution_count": 5,
     "metadata": {},
     "output_type": "execute_result"
    }
   ],
   "source": [
    "train_data.head()\n",
    "test_data.head()"
   ]
  },
  {
   "cell_type": "code",
   "execution_count": 6,
   "id": "c719ab9f",
   "metadata": {
    "execution": {
     "iopub.execute_input": "2024-08-11T18:15:20.085529Z",
     "iopub.status.busy": "2024-08-11T18:15:20.085052Z",
     "iopub.status.idle": "2024-08-11T18:15:20.280391Z",
     "shell.execute_reply": "2024-08-11T18:15:20.279024Z"
    },
    "papermill": {
     "duration": 0.206805,
     "end_time": "2024-08-11T18:15:20.283526",
     "exception": false,
     "start_time": "2024-08-11T18:15:20.076721",
     "status": "completed"
    },
    "tags": []
   },
   "outputs": [],
   "source": [
    "# splitting data\n",
    "\n",
    "x_train=train_data.drop(columns='is_fraud')\n",
    "y_train=train_data['is_fraud']\n",
    "x_test=test_data.drop(columns='is_fraud')\n",
    "y_test=test_data['is_fraud']\n",
    "\n",
    "# build classification models\n",
    "\n",
    "modelLR=LogisticRegression(max_iter=1000, random_state=42)\n",
    "modelRF=RandomForestClassifier(random_state=42)\n",
    "modelDT=DecisionTreeClassifier(random_state=42)"
   ]
  },
  {
   "cell_type": "code",
   "execution_count": 7,
   "id": "5595222b",
   "metadata": {
    "execution": {
     "iopub.execute_input": "2024-08-11T18:15:20.298330Z",
     "iopub.status.busy": "2024-08-11T18:15:20.297808Z",
     "iopub.status.idle": "2024-08-11T18:15:24.793835Z",
     "shell.execute_reply": "2024-08-11T18:15:24.792578Z"
    },
    "papermill": {
     "duration": 4.513038,
     "end_time": "2024-08-11T18:15:24.802897",
     "exception": false,
     "start_time": "2024-08-11T18:15:20.289859",
     "status": "completed"
    },
    "tags": []
   },
   "outputs": [
    {
     "name": "stderr",
     "output_type": "stream",
     "text": [
      "/opt/conda/lib/python3.10/site-packages/sklearn/linear_model/_logistic.py:458: ConvergenceWarning: lbfgs failed to converge (status=2):\n",
      "ABNORMAL_TERMINATION_IN_LNSRCH.\n",
      "\n",
      "Increase the number of iterations (max_iter) or scale the data as shown in:\n",
      "    https://scikit-learn.org/stable/modules/preprocessing.html\n",
      "Please also refer to the documentation for alternative solver options:\n",
      "    https://scikit-learn.org/stable/modules/linear_model.html#logistic-regression\n",
      "  n_iter_i = _check_optimize_result(\n"
     ]
    },
    {
     "data": {
      "text/html": [
       "<style>#sk-container-id-1 {color: black;background-color: white;}#sk-container-id-1 pre{padding: 0;}#sk-container-id-1 div.sk-toggleable {background-color: white;}#sk-container-id-1 label.sk-toggleable__label {cursor: pointer;display: block;width: 100%;margin-bottom: 0;padding: 0.3em;box-sizing: border-box;text-align: center;}#sk-container-id-1 label.sk-toggleable__label-arrow:before {content: \"▸\";float: left;margin-right: 0.25em;color: #696969;}#sk-container-id-1 label.sk-toggleable__label-arrow:hover:before {color: black;}#sk-container-id-1 div.sk-estimator:hover label.sk-toggleable__label-arrow:before {color: black;}#sk-container-id-1 div.sk-toggleable__content {max-height: 0;max-width: 0;overflow: hidden;text-align: left;background-color: #f0f8ff;}#sk-container-id-1 div.sk-toggleable__content pre {margin: 0.2em;color: black;border-radius: 0.25em;background-color: #f0f8ff;}#sk-container-id-1 input.sk-toggleable__control:checked~div.sk-toggleable__content {max-height: 200px;max-width: 100%;overflow: auto;}#sk-container-id-1 input.sk-toggleable__control:checked~label.sk-toggleable__label-arrow:before {content: \"▾\";}#sk-container-id-1 div.sk-estimator input.sk-toggleable__control:checked~label.sk-toggleable__label {background-color: #d4ebff;}#sk-container-id-1 div.sk-label input.sk-toggleable__control:checked~label.sk-toggleable__label {background-color: #d4ebff;}#sk-container-id-1 input.sk-hidden--visually {border: 0;clip: rect(1px 1px 1px 1px);clip: rect(1px, 1px, 1px, 1px);height: 1px;margin: -1px;overflow: hidden;padding: 0;position: absolute;width: 1px;}#sk-container-id-1 div.sk-estimator {font-family: monospace;background-color: #f0f8ff;border: 1px dotted black;border-radius: 0.25em;box-sizing: border-box;margin-bottom: 0.5em;}#sk-container-id-1 div.sk-estimator:hover {background-color: #d4ebff;}#sk-container-id-1 div.sk-parallel-item::after {content: \"\";width: 100%;border-bottom: 1px solid gray;flex-grow: 1;}#sk-container-id-1 div.sk-label:hover label.sk-toggleable__label {background-color: #d4ebff;}#sk-container-id-1 div.sk-serial::before {content: \"\";position: absolute;border-left: 1px solid gray;box-sizing: border-box;top: 0;bottom: 0;left: 50%;z-index: 0;}#sk-container-id-1 div.sk-serial {display: flex;flex-direction: column;align-items: center;background-color: white;padding-right: 0.2em;padding-left: 0.2em;position: relative;}#sk-container-id-1 div.sk-item {position: relative;z-index: 1;}#sk-container-id-1 div.sk-parallel {display: flex;align-items: stretch;justify-content: center;background-color: white;position: relative;}#sk-container-id-1 div.sk-item::before, #sk-container-id-1 div.sk-parallel-item::before {content: \"\";position: absolute;border-left: 1px solid gray;box-sizing: border-box;top: 0;bottom: 0;left: 50%;z-index: -1;}#sk-container-id-1 div.sk-parallel-item {display: flex;flex-direction: column;z-index: 1;position: relative;background-color: white;}#sk-container-id-1 div.sk-parallel-item:first-child::after {align-self: flex-end;width: 50%;}#sk-container-id-1 div.sk-parallel-item:last-child::after {align-self: flex-start;width: 50%;}#sk-container-id-1 div.sk-parallel-item:only-child::after {width: 0;}#sk-container-id-1 div.sk-dashed-wrapped {border: 1px dashed gray;margin: 0 0.4em 0.5em 0.4em;box-sizing: border-box;padding-bottom: 0.4em;background-color: white;}#sk-container-id-1 div.sk-label label {font-family: monospace;font-weight: bold;display: inline-block;line-height: 1.2em;}#sk-container-id-1 div.sk-label-container {text-align: center;}#sk-container-id-1 div.sk-container {/* jupyter's `normalize.less` sets `[hidden] { display: none; }` but bootstrap.min.css set `[hidden] { display: none !important; }` so we also need the `!important` here to be able to override the default hidden behavior on the sphinx rendered scikit-learn.org. See: https://github.com/scikit-learn/scikit-learn/issues/21755 */display: inline-block !important;position: relative;}#sk-container-id-1 div.sk-text-repr-fallback {display: none;}</style><div id=\"sk-container-id-1\" class=\"sk-top-container\"><div class=\"sk-text-repr-fallback\"><pre>LogisticRegression(max_iter=1000, random_state=42)</pre><b>In a Jupyter environment, please rerun this cell to show the HTML representation or trust the notebook. <br />On GitHub, the HTML representation is unable to render, please try loading this page with nbviewer.org.</b></div><div class=\"sk-container\" hidden><div class=\"sk-item\"><div class=\"sk-estimator sk-toggleable\"><input class=\"sk-toggleable__control sk-hidden--visually\" id=\"sk-estimator-id-1\" type=\"checkbox\" checked><label for=\"sk-estimator-id-1\" class=\"sk-toggleable__label sk-toggleable__label-arrow\">LogisticRegression</label><div class=\"sk-toggleable__content\"><pre>LogisticRegression(max_iter=1000, random_state=42)</pre></div></div></div></div></div>"
      ],
      "text/plain": [
       "LogisticRegression(max_iter=1000, random_state=42)"
      ]
     },
     "execution_count": 7,
     "metadata": {},
     "output_type": "execute_result"
    }
   ],
   "source": [
    "modelLR.fit(x_train,y_train)"
   ]
  },
  {
   "cell_type": "code",
   "execution_count": 8,
   "id": "2df3244f",
   "metadata": {
    "execution": {
     "iopub.execute_input": "2024-08-11T18:15:24.834173Z",
     "iopub.status.busy": "2024-08-11T18:15:24.833383Z",
     "iopub.status.idle": "2024-08-11T18:40:20.015755Z",
     "shell.execute_reply": "2024-08-11T18:40:20.013818Z"
    },
    "papermill": {
     "duration": 1495.208578,
     "end_time": "2024-08-11T18:40:20.025887",
     "exception": false,
     "start_time": "2024-08-11T18:15:24.817309",
     "status": "completed"
    },
    "tags": []
   },
   "outputs": [
    {
     "data": {
      "text/html": [
       "<style>#sk-container-id-2 {color: black;background-color: white;}#sk-container-id-2 pre{padding: 0;}#sk-container-id-2 div.sk-toggleable {background-color: white;}#sk-container-id-2 label.sk-toggleable__label {cursor: pointer;display: block;width: 100%;margin-bottom: 0;padding: 0.3em;box-sizing: border-box;text-align: center;}#sk-container-id-2 label.sk-toggleable__label-arrow:before {content: \"▸\";float: left;margin-right: 0.25em;color: #696969;}#sk-container-id-2 label.sk-toggleable__label-arrow:hover:before {color: black;}#sk-container-id-2 div.sk-estimator:hover label.sk-toggleable__label-arrow:before {color: black;}#sk-container-id-2 div.sk-toggleable__content {max-height: 0;max-width: 0;overflow: hidden;text-align: left;background-color: #f0f8ff;}#sk-container-id-2 div.sk-toggleable__content pre {margin: 0.2em;color: black;border-radius: 0.25em;background-color: #f0f8ff;}#sk-container-id-2 input.sk-toggleable__control:checked~div.sk-toggleable__content {max-height: 200px;max-width: 100%;overflow: auto;}#sk-container-id-2 input.sk-toggleable__control:checked~label.sk-toggleable__label-arrow:before {content: \"▾\";}#sk-container-id-2 div.sk-estimator input.sk-toggleable__control:checked~label.sk-toggleable__label {background-color: #d4ebff;}#sk-container-id-2 div.sk-label input.sk-toggleable__control:checked~label.sk-toggleable__label {background-color: #d4ebff;}#sk-container-id-2 input.sk-hidden--visually {border: 0;clip: rect(1px 1px 1px 1px);clip: rect(1px, 1px, 1px, 1px);height: 1px;margin: -1px;overflow: hidden;padding: 0;position: absolute;width: 1px;}#sk-container-id-2 div.sk-estimator {font-family: monospace;background-color: #f0f8ff;border: 1px dotted black;border-radius: 0.25em;box-sizing: border-box;margin-bottom: 0.5em;}#sk-container-id-2 div.sk-estimator:hover {background-color: #d4ebff;}#sk-container-id-2 div.sk-parallel-item::after {content: \"\";width: 100%;border-bottom: 1px solid gray;flex-grow: 1;}#sk-container-id-2 div.sk-label:hover label.sk-toggleable__label {background-color: #d4ebff;}#sk-container-id-2 div.sk-serial::before {content: \"\";position: absolute;border-left: 1px solid gray;box-sizing: border-box;top: 0;bottom: 0;left: 50%;z-index: 0;}#sk-container-id-2 div.sk-serial {display: flex;flex-direction: column;align-items: center;background-color: white;padding-right: 0.2em;padding-left: 0.2em;position: relative;}#sk-container-id-2 div.sk-item {position: relative;z-index: 1;}#sk-container-id-2 div.sk-parallel {display: flex;align-items: stretch;justify-content: center;background-color: white;position: relative;}#sk-container-id-2 div.sk-item::before, #sk-container-id-2 div.sk-parallel-item::before {content: \"\";position: absolute;border-left: 1px solid gray;box-sizing: border-box;top: 0;bottom: 0;left: 50%;z-index: -1;}#sk-container-id-2 div.sk-parallel-item {display: flex;flex-direction: column;z-index: 1;position: relative;background-color: white;}#sk-container-id-2 div.sk-parallel-item:first-child::after {align-self: flex-end;width: 50%;}#sk-container-id-2 div.sk-parallel-item:last-child::after {align-self: flex-start;width: 50%;}#sk-container-id-2 div.sk-parallel-item:only-child::after {width: 0;}#sk-container-id-2 div.sk-dashed-wrapped {border: 1px dashed gray;margin: 0 0.4em 0.5em 0.4em;box-sizing: border-box;padding-bottom: 0.4em;background-color: white;}#sk-container-id-2 div.sk-label label {font-family: monospace;font-weight: bold;display: inline-block;line-height: 1.2em;}#sk-container-id-2 div.sk-label-container {text-align: center;}#sk-container-id-2 div.sk-container {/* jupyter's `normalize.less` sets `[hidden] { display: none; }` but bootstrap.min.css set `[hidden] { display: none !important; }` so we also need the `!important` here to be able to override the default hidden behavior on the sphinx rendered scikit-learn.org. See: https://github.com/scikit-learn/scikit-learn/issues/21755 */display: inline-block !important;position: relative;}#sk-container-id-2 div.sk-text-repr-fallback {display: none;}</style><div id=\"sk-container-id-2\" class=\"sk-top-container\"><div class=\"sk-text-repr-fallback\"><pre>RandomForestClassifier(random_state=42)</pre><b>In a Jupyter environment, please rerun this cell to show the HTML representation or trust the notebook. <br />On GitHub, the HTML representation is unable to render, please try loading this page with nbviewer.org.</b></div><div class=\"sk-container\" hidden><div class=\"sk-item\"><div class=\"sk-estimator sk-toggleable\"><input class=\"sk-toggleable__control sk-hidden--visually\" id=\"sk-estimator-id-2\" type=\"checkbox\" checked><label for=\"sk-estimator-id-2\" class=\"sk-toggleable__label sk-toggleable__label-arrow\">RandomForestClassifier</label><div class=\"sk-toggleable__content\"><pre>RandomForestClassifier(random_state=42)</pre></div></div></div></div></div>"
      ],
      "text/plain": [
       "RandomForestClassifier(random_state=42)"
      ]
     },
     "execution_count": 8,
     "metadata": {},
     "output_type": "execute_result"
    }
   ],
   "source": [
    "modelRF.fit(x_train,y_train)"
   ]
  },
  {
   "cell_type": "code",
   "execution_count": 9,
   "id": "b522e2c2",
   "metadata": {
    "execution": {
     "iopub.execute_input": "2024-08-11T18:40:20.042504Z",
     "iopub.status.busy": "2024-08-11T18:40:20.041999Z",
     "iopub.status.idle": "2024-08-11T18:41:24.554318Z",
     "shell.execute_reply": "2024-08-11T18:41:24.552964Z"
    },
    "papermill": {
     "duration": 64.530153,
     "end_time": "2024-08-11T18:41:24.563612",
     "exception": false,
     "start_time": "2024-08-11T18:40:20.033459",
     "status": "completed"
    },
    "tags": []
   },
   "outputs": [
    {
     "data": {
      "text/html": [
       "<style>#sk-container-id-3 {color: black;background-color: white;}#sk-container-id-3 pre{padding: 0;}#sk-container-id-3 div.sk-toggleable {background-color: white;}#sk-container-id-3 label.sk-toggleable__label {cursor: pointer;display: block;width: 100%;margin-bottom: 0;padding: 0.3em;box-sizing: border-box;text-align: center;}#sk-container-id-3 label.sk-toggleable__label-arrow:before {content: \"▸\";float: left;margin-right: 0.25em;color: #696969;}#sk-container-id-3 label.sk-toggleable__label-arrow:hover:before {color: black;}#sk-container-id-3 div.sk-estimator:hover label.sk-toggleable__label-arrow:before {color: black;}#sk-container-id-3 div.sk-toggleable__content {max-height: 0;max-width: 0;overflow: hidden;text-align: left;background-color: #f0f8ff;}#sk-container-id-3 div.sk-toggleable__content pre {margin: 0.2em;color: black;border-radius: 0.25em;background-color: #f0f8ff;}#sk-container-id-3 input.sk-toggleable__control:checked~div.sk-toggleable__content {max-height: 200px;max-width: 100%;overflow: auto;}#sk-container-id-3 input.sk-toggleable__control:checked~label.sk-toggleable__label-arrow:before {content: \"▾\";}#sk-container-id-3 div.sk-estimator input.sk-toggleable__control:checked~label.sk-toggleable__label {background-color: #d4ebff;}#sk-container-id-3 div.sk-label input.sk-toggleable__control:checked~label.sk-toggleable__label {background-color: #d4ebff;}#sk-container-id-3 input.sk-hidden--visually {border: 0;clip: rect(1px 1px 1px 1px);clip: rect(1px, 1px, 1px, 1px);height: 1px;margin: -1px;overflow: hidden;padding: 0;position: absolute;width: 1px;}#sk-container-id-3 div.sk-estimator {font-family: monospace;background-color: #f0f8ff;border: 1px dotted black;border-radius: 0.25em;box-sizing: border-box;margin-bottom: 0.5em;}#sk-container-id-3 div.sk-estimator:hover {background-color: #d4ebff;}#sk-container-id-3 div.sk-parallel-item::after {content: \"\";width: 100%;border-bottom: 1px solid gray;flex-grow: 1;}#sk-container-id-3 div.sk-label:hover label.sk-toggleable__label {background-color: #d4ebff;}#sk-container-id-3 div.sk-serial::before {content: \"\";position: absolute;border-left: 1px solid gray;box-sizing: border-box;top: 0;bottom: 0;left: 50%;z-index: 0;}#sk-container-id-3 div.sk-serial {display: flex;flex-direction: column;align-items: center;background-color: white;padding-right: 0.2em;padding-left: 0.2em;position: relative;}#sk-container-id-3 div.sk-item {position: relative;z-index: 1;}#sk-container-id-3 div.sk-parallel {display: flex;align-items: stretch;justify-content: center;background-color: white;position: relative;}#sk-container-id-3 div.sk-item::before, #sk-container-id-3 div.sk-parallel-item::before {content: \"\";position: absolute;border-left: 1px solid gray;box-sizing: border-box;top: 0;bottom: 0;left: 50%;z-index: -1;}#sk-container-id-3 div.sk-parallel-item {display: flex;flex-direction: column;z-index: 1;position: relative;background-color: white;}#sk-container-id-3 div.sk-parallel-item:first-child::after {align-self: flex-end;width: 50%;}#sk-container-id-3 div.sk-parallel-item:last-child::after {align-self: flex-start;width: 50%;}#sk-container-id-3 div.sk-parallel-item:only-child::after {width: 0;}#sk-container-id-3 div.sk-dashed-wrapped {border: 1px dashed gray;margin: 0 0.4em 0.5em 0.4em;box-sizing: border-box;padding-bottom: 0.4em;background-color: white;}#sk-container-id-3 div.sk-label label {font-family: monospace;font-weight: bold;display: inline-block;line-height: 1.2em;}#sk-container-id-3 div.sk-label-container {text-align: center;}#sk-container-id-3 div.sk-container {/* jupyter's `normalize.less` sets `[hidden] { display: none; }` but bootstrap.min.css set `[hidden] { display: none !important; }` so we also need the `!important` here to be able to override the default hidden behavior on the sphinx rendered scikit-learn.org. See: https://github.com/scikit-learn/scikit-learn/issues/21755 */display: inline-block !important;position: relative;}#sk-container-id-3 div.sk-text-repr-fallback {display: none;}</style><div id=\"sk-container-id-3\" class=\"sk-top-container\"><div class=\"sk-text-repr-fallback\"><pre>DecisionTreeClassifier(random_state=42)</pre><b>In a Jupyter environment, please rerun this cell to show the HTML representation or trust the notebook. <br />On GitHub, the HTML representation is unable to render, please try loading this page with nbviewer.org.</b></div><div class=\"sk-container\" hidden><div class=\"sk-item\"><div class=\"sk-estimator sk-toggleable\"><input class=\"sk-toggleable__control sk-hidden--visually\" id=\"sk-estimator-id-3\" type=\"checkbox\" checked><label for=\"sk-estimator-id-3\" class=\"sk-toggleable__label sk-toggleable__label-arrow\">DecisionTreeClassifier</label><div class=\"sk-toggleable__content\"><pre>DecisionTreeClassifier(random_state=42)</pre></div></div></div></div></div>"
      ],
      "text/plain": [
       "DecisionTreeClassifier(random_state=42)"
      ]
     },
     "execution_count": 9,
     "metadata": {},
     "output_type": "execute_result"
    }
   ],
   "source": [
    "modelDT.fit(x_train,y_train)"
   ]
  },
  {
   "cell_type": "code",
   "execution_count": 10,
   "id": "3ac18a3d",
   "metadata": {
    "execution": {
     "iopub.execute_input": "2024-08-11T18:41:24.580413Z",
     "iopub.status.busy": "2024-08-11T18:41:24.579959Z",
     "iopub.status.idle": "2024-08-11T18:41:32.492574Z",
     "shell.execute_reply": "2024-08-11T18:41:32.491241Z"
    },
    "papermill": {
     "duration": 7.924724,
     "end_time": "2024-08-11T18:41:32.495674",
     "exception": false,
     "start_time": "2024-08-11T18:41:24.570950",
     "status": "completed"
    },
    "tags": []
   },
   "outputs": [],
   "source": [
    "predictionsLR=modelLR.predict(x_test)\n",
    "predictionsRF=modelRF.predict(x_test)\n",
    "predictionsDT=modelDT.predict(x_test)"
   ]
  },
  {
   "cell_type": "code",
   "execution_count": 11,
   "id": "1827b3ba",
   "metadata": {
    "execution": {
     "iopub.execute_input": "2024-08-11T18:41:32.514690Z",
     "iopub.status.busy": "2024-08-11T18:41:32.514206Z",
     "iopub.status.idle": "2024-08-11T18:41:32.839018Z",
     "shell.execute_reply": "2024-08-11T18:41:32.837595Z"
    },
    "papermill": {
     "duration": 0.338008,
     "end_time": "2024-08-11T18:41:32.842090",
     "exception": false,
     "start_time": "2024-08-11T18:41:32.504082",
     "status": "completed"
    },
    "tags": []
   },
   "outputs": [],
   "source": [
    "# make evaluations \n",
    "\n",
    "cmLR=confusion_matrix(y_test,predictionsLR)\n",
    "cmRF=confusion_matrix(y_test,predictionsRF)\n",
    "cmDT=confusion_matrix(y_test,predictionsRF)"
   ]
  },
  {
   "cell_type": "code",
   "execution_count": 12,
   "id": "cc50e406",
   "metadata": {
    "execution": {
     "iopub.execute_input": "2024-08-11T18:41:32.858504Z",
     "iopub.status.busy": "2024-08-11T18:41:32.857976Z",
     "iopub.status.idle": "2024-08-11T18:41:33.020528Z",
     "shell.execute_reply": "2024-08-11T18:41:33.019287Z"
    },
    "papermill": {
     "duration": 0.174992,
     "end_time": "2024-08-11T18:41:33.024314",
     "exception": false,
     "start_time": "2024-08-11T18:41:32.849322",
     "status": "completed"
    },
    "tags": []
   },
   "outputs": [],
   "source": [
    "# get models accuracy \n",
    "\n",
    "accuracyLR=accuracy_score(y_test,predictionsLR)\n",
    "accuracyRF=accuracy_score(y_test,predictionsRF)\n",
    "accuracyDT=accuracy_score(y_test,predictionsDT)"
   ]
  },
  {
   "cell_type": "code",
   "execution_count": 13,
   "id": "1f9566ab",
   "metadata": {
    "execution": {
     "iopub.execute_input": "2024-08-11T18:41:33.042901Z",
     "iopub.status.busy": "2024-08-11T18:41:33.042416Z",
     "iopub.status.idle": "2024-08-11T18:41:33.050770Z",
     "shell.execute_reply": "2024-08-11T18:41:33.049369Z"
    },
    "papermill": {
     "duration": 0.02059,
     "end_time": "2024-08-11T18:41:33.053825",
     "exception": false,
     "start_time": "2024-08-11T18:41:33.033235",
     "status": "completed"
    },
    "tags": []
   },
   "outputs": [
    {
     "data": {
      "text/plain": [
       "(0.9961401355721147, 0.9974033639303317, 0.9901442995470733)"
      ]
     },
     "execution_count": 13,
     "metadata": {},
     "output_type": "execute_result"
    }
   ],
   "source": [
    "accuracyLR , accuracyRF , accuracyDT"
   ]
  }
 ],
 "metadata": {
  "kaggle": {
   "accelerator": "none",
   "dataSources": [
    {
     "datasetId": 817870,
     "sourceId": 1399887,
     "sourceType": "datasetVersion"
    }
   ],
   "dockerImageVersionId": 30746,
   "isGpuEnabled": false,
   "isInternetEnabled": true,
   "language": "python",
   "sourceType": "notebook"
  },
  "kernelspec": {
   "display_name": "Python 3",
   "language": "python",
   "name": "python3"
  },
  "language_info": {
   "codemirror_mode": {
    "name": "ipython",
    "version": 3
   },
   "file_extension": ".py",
   "mimetype": "text/x-python",
   "name": "python",
   "nbconvert_exporter": "python",
   "pygments_lexer": "ipython3",
   "version": "3.10.13"
  },
  "papermill": {
   "default_parameters": {},
   "duration": 1627.031532,
   "end_time": "2024-08-11T18:41:33.991677",
   "environment_variables": {},
   "exception": null,
   "input_path": "__notebook__.ipynb",
   "output_path": "__notebook__.ipynb",
   "parameters": {},
   "start_time": "2024-08-11T18:14:26.960145",
   "version": "2.5.0"
  }
 },
 "nbformat": 4,
 "nbformat_minor": 5
}
